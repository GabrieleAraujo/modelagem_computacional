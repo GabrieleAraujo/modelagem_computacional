{
 "cells": [
  {
   "cell_type": "markdown",
   "id": "e16c4586",
   "metadata": {},
   "source": [
    "# Modelagem Computacional - Aula 2 (01/09/2023)"
   ]
  },
  {
   "cell_type": "markdown",
   "id": "c1da954c",
   "metadata": {},
   "source": [
    "### Importando bibliotecas"
   ]
  },
  {
   "cell_type": "code",
   "execution_count": 1,
   "id": "304c41b3",
   "metadata": {},
   "outputs": [],
   "source": [
    "import numpy as np"
   ]
  },
  {
   "cell_type": "code",
   "execution_count": 2,
   "id": "00418b58",
   "metadata": {},
   "outputs": [],
   "source": [
    "#((x*(t+h)-x*(t))/h)=x*(t)*(1-x(t))"
   ]
  },
  {
   "cell_type": "code",
   "execution_count": 3,
   "id": "b1530bc8",
   "metadata": {},
   "outputs": [],
   "source": [
    "#Derivada\n",
    "def f(tau, W): \n",
    "    return W - tau**2 + 1.0"
   ]
  },
  {
   "cell_type": "code",
   "execution_count": 4,
   "id": "855e45fb",
   "metadata": {},
   "outputs": [],
   "source": [
    "#Analítica\n",
    "def analitf(t): \n",
    "    return (t+1.0)**2 - np.exp(t)/2.0"
   ]
  },
  {
   "cell_type": "markdown",
   "id": "454c3fb6",
   "metadata": {},
   "source": [
    "#### Função de Euler"
   ]
  },
  {
   "cell_type": "code",
   "execution_count": 5,
   "id": "95000ae6",
   "metadata": {},
   "outputs": [],
   "source": [
    "def euler(x, y0, h):\n",
    "    y = np.zeros(len(x))\n",
    "    y[0] = y0\n",
    "    for i in np.arange(0, len(x)-1):\n",
    "        y[i+1] = y[i] + f(x[i], y[i]) * h\n",
    "                \n",
    "    return y"
   ]
  },
  {
   "cell_type": "markdown",
   "id": "ea9cd181",
   "metadata": {},
   "source": [
    "### Condições iniciais"
   ]
  },
  {
   "cell_type": "code",
   "execution_count": 1,
   "id": "de917209",
   "metadata": {},
   "outputs": [],
   "source": [
    "#domínios\n",
    "a  = 0.0\n",
    "b  = 2.0\n",
    "y0 = 0.5  #PVI confição inicial\n",
    "N  = 20   # Número de interações\n",
    "h  = 0.001  #intervalo (delta) h=(b-a)/100\n",
    "#h  = 0.1 "
   ]
  },
  {
   "cell_type": "code",
   "execution_count": 2,
   "id": "9329d1a5",
   "metadata": {},
   "outputs": [
    {
     "ename": "NameError",
     "evalue": "name 'np' is not defined",
     "output_type": "error",
     "traceback": [
      "\u001b[1;31m---------------------------------------------------------------------------\u001b[0m",
      "\u001b[1;31mNameError\u001b[0m                                 Traceback (most recent call last)",
      "\u001b[1;32m~\\AppData\\Local\\Temp\\ipykernel_6540\\1476213064.py\u001b[0m in \u001b[0;36m<module>\u001b[1;34m\u001b[0m\n\u001b[1;32m----> 1\u001b[1;33m \u001b[0mx\u001b[0m \u001b[1;33m=\u001b[0m \u001b[0mnp\u001b[0m\u001b[1;33m.\u001b[0m\u001b[0marange\u001b[0m\u001b[1;33m(\u001b[0m\u001b[0ma\u001b[0m\u001b[1;33m,\u001b[0m \u001b[0mb\u001b[0m\u001b[1;33m,\u001b[0m \u001b[0mh\u001b[0m\u001b[1;33m)\u001b[0m \u001b[1;31m#ou t\u001b[0m\u001b[1;33m\u001b[0m\u001b[1;33m\u001b[0m\u001b[0m\n\u001b[0m\u001b[0;32m      2\u001b[0m \u001b[0mlen\u001b[0m\u001b[1;33m(\u001b[0m\u001b[0mx\u001b[0m\u001b[1;33m)\u001b[0m\u001b[1;33m\u001b[0m\u001b[1;33m\u001b[0m\u001b[0m\n",
      "\u001b[1;31mNameError\u001b[0m: name 'np' is not defined"
     ]
    }
   ],
   "source": [
    "x = np.arange(a, b, h) #ou t\n",
    "len(x)"
   ]
  },
  {
   "cell_type": "code",
   "execution_count": 8,
   "id": "df2edc61",
   "metadata": {},
   "outputs": [
    {
     "name": "stdout",
     "output_type": "stream",
     "text": [
      "Solução Euler: [0.5        0.5015     0.5030015  ... 5.295862   5.29816986 5.30047602]\n"
     ]
    },
    {
     "data": {
      "text/plain": [
       "2000"
      ]
     },
     "execution_count": 8,
     "metadata": {},
     "output_type": "execute_result"
    }
   ],
   "source": [
    "F = euler(x, y0, h)\n",
    "print (f'Solução Euler: {F}')\n",
    "len(F)"
   ]
  },
  {
   "cell_type": "code",
   "execution_count": 9,
   "id": "30aeb4e3",
   "metadata": {},
   "outputs": [
    {
     "name": "stdout",
     "output_type": "stream",
     "text": [
      "Solução Analítica: [0.5        0.50150075 0.503003   ... 5.29854793 5.30085762 5.30316563]\n"
     ]
    },
    {
     "data": {
      "text/plain": [
       "2000"
      ]
     },
     "execution_count": 9,
     "metadata": {},
     "output_type": "execute_result"
    }
   ],
   "source": [
    "analic = analitf(x)\n",
    "print (f'Solução Analítica: {analic}')\n",
    "len(analic)"
   ]
  },
  {
   "cell_type": "markdown",
   "id": "06521753",
   "metadata": {},
   "source": [
    "## Gráfico"
   ]
  },
  {
   "cell_type": "code",
   "execution_count": 12,
   "id": "db68da97",
   "metadata": {},
   "outputs": [
    {
     "data": {
      "image/png": "[encoded data removed]",
      "text/plain": [
       "<Figure size 1000x600 with 1 Axes>"
      ]
     },
     "metadata": {},
     "output_type": "display_data"
    }
   ],
   "source": [
    "import matplotlib.pyplot as plt\n",
    "import seaborn as sns\n",
    "\n",
    "\n",
    "sns.set(font_scale = 1, font='sans serif')\n",
    "plt.figure(figsize=(10,6), facecolor = \"#FFF\")\n",
    "\n",
    "plt.figure(1)\n",
    "plt.rcParams.update({'font.size': 10})\n",
    "plt.plot(x, F, 'r--', linewidth = 1)\n",
    "plt.plot(x, analic, 'b--', linewidth = 2)\n",
    "plt.title('Euler')\n",
    "plt.xlabel('x')\n",
    "plt.ylabel('y(x)')\n",
    "#plt.legen(['Euler'])\n",
    "plt.grid(True)\n",
    "plot.show()"
   ]
  },
  {
   "cell_type": "markdown",
   "id": "37729ba0",
   "metadata": {},
   "source": [
    "# Exercício de aplicação"
   ]
  },
  {
   "cell_type": "markdown",
   "id": "a92a6542",
   "metadata": {},
   "source": [
    "## Caso A"
   ]
  },
  {
   "cell_type": "code",
   "execution_count": 103,
   "id": "77dcce40",
   "metadata": {},
   "outputs": [],
   "source": [
    "d = 0.46 #cm\n",
    "E = 0.63\n",
    "L = 20 #cm\n",
    "Q = 0.25 #ml/min\n",
    "keqa = 1.2024 \n",
    "k2a = 3.4980\n",
    "k1a = keqa * k2a\n",
    "V = (np.pi*((d**2)/4) * L)\n",
    "Na = 523\n",
    "Vs = V/Na\n",
    "ci = Q/(E*Vs)\n",
    "tmax = 80*60\n",
    "qa = 0\n",
    "ca0 = 0.75\n",
    "Va = 0.02\n",
    "ca = Q/(E*Vs)\n",
    "ta = (Va/Q)\n",
    "tn = 0"
   ]
  },
  {
   "cell_type": "code",
   "execution_count": 104,
   "id": "a63f00ae",
   "metadata": {},
   "outputs": [],
   "source": [
    "#domínios\n",
    "a  = 0.0\n",
    "b  = 80\n",
    "h  = 0.001  #intervalo (delta) h=(b-a)/100\n",
    "#h  = 0.1 "
   ]
  },
  {
   "cell_type": "code",
   "execution_count": 105,
   "id": "e5ef0841",
   "metadata": {},
   "outputs": [
    {
     "data": {
      "text/plain": [
       "0.08"
      ]
     },
     "execution_count": 105,
     "metadata": {},
     "output_type": "execute_result"
    }
   ],
   "source": [
    "ta"
   ]
  },
  {
   "cell_type": "code",
   "execution_count": 106,
   "id": "d3d5337a",
   "metadata": {},
   "outputs": [
    {
     "data": {
      "text/plain": [
       "62.44039010191531"
      ]
     },
     "execution_count": 106,
     "metadata": {},
     "output_type": "execute_result"
    }
   ],
   "source": [
    "ci"
   ]
  },
  {
   "cell_type": "code",
   "execution_count": 107,
   "id": "07525019",
   "metadata": {},
   "outputs": [
    {
     "data": {
      "text/plain": [
       "80000"
      ]
     },
     "execution_count": 107,
     "metadata": {},
     "output_type": "execute_result"
    }
   ],
   "source": [
    "x = np.arange(a, b, h) #ou t\n",
    "len(x)"
   ]
  },
  {
   "cell_type": "code",
   "execution_count": 108,
   "id": "744f2d5d",
   "metadata": {},
   "outputs": [
    {
     "data": {
      "text/plain": [
       "62.44039010191531"
      ]
     },
     "execution_count": 108,
     "metadata": {},
     "output_type": "execute_result"
    }
   ],
   "source": [
    "ca"
   ]
  },
  {
   "cell_type": "code",
   "execution_count": 109,
   "id": "4223e896",
   "metadata": {},
   "outputs": [],
   "source": [
    "def f2(x, ca, qa):\n",
    "    return k1a*ca - k2a*qa"
   ]
  },
  {
   "cell_type": "code",
   "execution_count": 110,
   "id": "3510900e",
   "metadata": {},
   "outputs": [],
   "source": [
    "def f(x, ca0, qa, ca):\n",
    "    return ci(ca0 - ca) - (k1a*ca - k2a*qa) *f2(x, ca, qa)"
   ]
  },
  {
   "cell_type": "code",
   "execution_count": 111,
   "id": "fd6fe16c",
   "metadata": {},
   "outputs": [],
   "source": [
    "dominio = int(ta/h/h)"
   ]
  },
  {
   "cell_type": "code",
   "execution_count": 115,
   "id": "8f600507",
   "metadata": {},
   "outputs": [],
   "source": [
    "ca = np.zeros(dominio)\n",
    "qa = np.zeros(dominio)\n",
    "t = np.zeros(dominio)\n",
    "\n",
    "tn = 0\n",
    "tmax = 10 \n",
    "ta = 5\n",
    "tn = 0\n",
    "ca[0] = 0\n",
    "qa[0] = 0"
   ]
  },
  {
   "cell_type": "code",
   "execution_count": 117,
   "id": "bc4d11f4",
   "metadata": {},
   "outputs": [
    {
     "name": "stdout",
     "output_type": "stream",
     "text": [
      "0 0.0 0.75\n"
     ]
    },
    {
     "ename": "TypeError",
     "evalue": "'float' object is not callable",
     "output_type": "error",
     "traceback": [
      "\u001b[1;31m---------------------------------------------------------------------------\u001b[0m",
      "\u001b[1;31mTypeError\u001b[0m                                 Traceback (most recent call last)",
      "\u001b[1;32m~\\AppData\\Local\\Temp\\ipykernel_13816\\3333192989.py\u001b[0m in \u001b[0;36m<module>\u001b[1;34m\u001b[0m\n\u001b[0;32m     16\u001b[0m         \u001b[0mx\u001b[0m\u001b[1;33m[\u001b[0m\u001b[0mi\u001b[0m\u001b[1;33m+\u001b[0m\u001b[1;36m1\u001b[0m\u001b[1;33m]\u001b[0m \u001b[1;33m=\u001b[0m \u001b[0mx\u001b[0m\u001b[1;33m[\u001b[0m\u001b[0mi\u001b[0m\u001b[1;33m]\u001b[0m \u001b[1;33m+\u001b[0m \u001b[0mh\u001b[0m\u001b[1;33m\u001b[0m\u001b[1;33m\u001b[0m\u001b[0m\n\u001b[0;32m     17\u001b[0m \u001b[1;33m\u001b[0m\u001b[0m\n\u001b[1;32m---> 18\u001b[1;33m         \u001b[0mca\u001b[0m\u001b[1;33m[\u001b[0m\u001b[0mi\u001b[0m\u001b[1;33m+\u001b[0m\u001b[1;36m1\u001b[0m\u001b[1;33m]\u001b[0m \u001b[1;33m=\u001b[0m \u001b[0mca\u001b[0m\u001b[1;33m[\u001b[0m\u001b[0mi\u001b[0m\u001b[1;33m]\u001b[0m \u001b[1;33m+\u001b[0m \u001b[0mh\u001b[0m\u001b[1;33m*\u001b[0m\u001b[0mf\u001b[0m\u001b[1;33m(\u001b[0m\u001b[0mx\u001b[0m\u001b[1;33m[\u001b[0m\u001b[0mi\u001b[0m\u001b[1;33m]\u001b[0m\u001b[1;33m,\u001b[0m \u001b[0mca\u001b[0m\u001b[1;33m[\u001b[0m\u001b[0mi\u001b[0m\u001b[1;33m]\u001b[0m\u001b[1;33m,\u001b[0m \u001b[0mqa\u001b[0m\u001b[1;33m[\u001b[0m\u001b[0mi\u001b[0m\u001b[1;33m+\u001b[0m\u001b[1;36m1\u001b[0m\u001b[1;33m]\u001b[0m\u001b[1;33m,\u001b[0m \u001b[0mca\u001b[0m\u001b[1;33m[\u001b[0m\u001b[0mi\u001b[0m\u001b[1;33m+\u001b[0m\u001b[1;36m1\u001b[0m\u001b[1;33m]\u001b[0m\u001b[1;33m)\u001b[0m\u001b[1;33m\u001b[0m\u001b[1;33m\u001b[0m\u001b[0m\n\u001b[0m\u001b[0;32m     19\u001b[0m         \u001b[0mqa\u001b[0m\u001b[1;33m[\u001b[0m\u001b[0mi\u001b[0m\u001b[1;33m+\u001b[0m\u001b[1;36m1\u001b[0m\u001b[1;33m]\u001b[0m \u001b[1;33m=\u001b[0m \u001b[0mqa\u001b[0m\u001b[1;33m[\u001b[0m\u001b[0mi\u001b[0m\u001b[1;33m]\u001b[0m \u001b[1;33m+\u001b[0m \u001b[0mh\u001b[0m\u001b[1;33m*\u001b[0m\u001b[1;33m(\u001b[0m\u001b[0mf2\u001b[0m\u001b[1;33m(\u001b[0m\u001b[0mx\u001b[0m\u001b[1;33m[\u001b[0m\u001b[0mi\u001b[0m\u001b[1;33m]\u001b[0m\u001b[1;33m,\u001b[0m \u001b[0mca\u001b[0m\u001b[1;33m[\u001b[0m\u001b[0mi\u001b[0m\u001b[1;33m+\u001b[0m\u001b[1;36m1\u001b[0m\u001b[1;33m]\u001b[0m\u001b[1;33m,\u001b[0m \u001b[0mqa\u001b[0m\u001b[1;33m[\u001b[0m\u001b[0mi\u001b[0m\u001b[1;33m+\u001b[0m\u001b[1;36m1\u001b[0m\u001b[1;33m]\u001b[0m\u001b[1;33m)\u001b[0m\u001b[1;33m)\u001b[0m\u001b[1;33m\u001b[0m\u001b[1;33m\u001b[0m\u001b[0m\n\u001b[0;32m     20\u001b[0m \u001b[1;33m\u001b[0m\u001b[0m\n",
      "\u001b[1;32m~\\AppData\\Local\\Temp\\ipykernel_13816\\4245413254.py\u001b[0m in \u001b[0;36mf\u001b[1;34m(x, ca0, qa, ca)\u001b[0m\n\u001b[0;32m      1\u001b[0m \u001b[1;32mdef\u001b[0m \u001b[0mf\u001b[0m\u001b[1;33m(\u001b[0m\u001b[0mx\u001b[0m\u001b[1;33m,\u001b[0m \u001b[0mca0\u001b[0m\u001b[1;33m,\u001b[0m \u001b[0mqa\u001b[0m\u001b[1;33m,\u001b[0m \u001b[0mca\u001b[0m\u001b[1;33m)\u001b[0m\u001b[1;33m:\u001b[0m\u001b[1;33m\u001b[0m\u001b[1;33m\u001b[0m\u001b[0m\n\u001b[1;32m----> 2\u001b[1;33m     \u001b[1;32mreturn\u001b[0m \u001b[0mci\u001b[0m\u001b[1;33m(\u001b[0m\u001b[0mca0\u001b[0m \u001b[1;33m-\u001b[0m \u001b[0mca\u001b[0m\u001b[1;33m)\u001b[0m \u001b[1;33m-\u001b[0m \u001b[1;33m(\u001b[0m\u001b[0mk1a\u001b[0m\u001b[1;33m*\u001b[0m\u001b[0mca\u001b[0m \u001b[1;33m-\u001b[0m \u001b[0mk2a\u001b[0m\u001b[1;33m*\u001b[0m\u001b[0mqa\u001b[0m\u001b[1;33m)\u001b[0m \u001b[1;33m*\u001b[0m\u001b[0mf2\u001b[0m\u001b[1;33m(\u001b[0m\u001b[0mx\u001b[0m\u001b[1;33m,\u001b[0m \u001b[0mca\u001b[0m\u001b[1;33m,\u001b[0m \u001b[0mqa\u001b[0m\u001b[1;33m)\u001b[0m\u001b[1;33m\u001b[0m\u001b[1;33m\u001b[0m\u001b[0m\n\u001b[0m",
      "\u001b[1;31mTypeError\u001b[0m: 'float' object is not callable"
     ]
    }
   ],
   "source": [
    "valores_A = open('casoA.csv', mode='w')\n",
    "\n",
    "while tn < tmax:\n",
    "    if tn < ta:\n",
    "        ca[0] = ca0\n",
    "    else:\n",
    "        ca[0] = 0\n",
    "        \n",
    "    if int(tn*1000)%320<1: \n",
    "        valores_A.write(str(tn) + '\\t' + str(ca[N-1]) + '\\t' + str(ca[0]) + '\\n')\n",
    "        #print (tn, CA[Na-1], CA[0]) #condição de loop (imprimir em csv) e fazer o plot\n",
    "        print(tn, ca[Na-1], ca[0])\n",
    "\n",
    "    for i in range(0, Na):\n",
    "        \n",
    "        x[i+1] = x[i] + h\n",
    "        \n",
    "        ca[i+1] = ca[i] + h*f(x[i], ca[i], qa[i+1], ca[i+1])\n",
    "        qa[i+1] = qa[i] + h*(f2(x[i], ca[i+1], qa[i+1]))      \n",
    "        \n",
    "#         k1CA = h * f(t[i+1], CA[i], CA[i+1], qa[i+1])\n",
    "#         k1qA = h * f2(t[i+1], CA[i+1], qa[i+1])\n",
    "        \n",
    "#         k2CA = h * f(t[i+1] + h/2, CA[i] + k1CA/2, CA[i+1] + k1CA/2, qa[i+1] + k1CA/2)\n",
    "#         k2qA = h * f2(t[i+1] + h/2, CA[i+1] + k1qa/2, qa[i+1] + k1qa/2)\n",
    "        \n",
    "#         k3CA = h * f(t[i+1] + h/2, CA[i] + k2CA/2, CA[i+1] + k2CA/2, qa[i+1] + k2CA/2)\n",
    "#         k3qA = h * f2(t[i+1] + h/2, CA[i+1] + k2qa/2, qA[i+1] + k2qa/2)\n",
    "        \n",
    "#         k4_CA = h * f(t[i+1] + h, CA[i] + k3CA, CA[i+1] + k3CA, qa[i+1] + k3CA)\n",
    "#         k4_qa = h * f2(t[i+1] + h, CA[i+1] + k3qa, q[i+1] + k3qa)\n",
    "        \n",
    "        \n",
    "#         CA[i+1] = CA[i+1] + (k1CA + 2*k2CA + 2*k3CA + k4CA) / 6\n",
    "#         qA[i+1] = qA[i+1] + (k1qa + 2*k2qa + 2*k3qa + k4qa) / 6\n",
    "        \n",
    "\n",
    "    tn +=h"
   ]
  },
  {
   "cell_type": "code",
   "execution_count": 114,
   "id": "f40f8e2d",
   "metadata": {},
   "outputs": [
    {
     "ename": "ValueError",
     "evalue": "x and y must have same first dimension, but have shapes (80000,) and (2000,)",
     "output_type": "error",
     "traceback": [
      "\u001b[1;31m---------------------------------------------------------------------------\u001b[0m",
      "\u001b[1;31mValueError\u001b[0m                                Traceback (most recent call last)",
      "\u001b[1;32m~\\AppData\\Local\\Temp\\ipykernel_13816\\2388422402.py\u001b[0m in \u001b[0;36m<module>\u001b[1;34m\u001b[0m\n\u001b[0;32m      8\u001b[0m \u001b[0mplt\u001b[0m\u001b[1;33m.\u001b[0m\u001b[0mfigure\u001b[0m\u001b[1;33m(\u001b[0m\u001b[1;36m1\u001b[0m\u001b[1;33m)\u001b[0m\u001b[1;33m\u001b[0m\u001b[1;33m\u001b[0m\u001b[0m\n\u001b[0;32m      9\u001b[0m \u001b[0mplt\u001b[0m\u001b[1;33m.\u001b[0m\u001b[0mrcParams\u001b[0m\u001b[1;33m.\u001b[0m\u001b[0mupdate\u001b[0m\u001b[1;33m(\u001b[0m\u001b[1;33m{\u001b[0m\u001b[1;34m'font.size'\u001b[0m\u001b[1;33m:\u001b[0m \u001b[1;36m10\u001b[0m\u001b[1;33m}\u001b[0m\u001b[1;33m)\u001b[0m\u001b[1;33m\u001b[0m\u001b[1;33m\u001b[0m\u001b[0m\n\u001b[1;32m---> 10\u001b[1;33m \u001b[0mplt\u001b[0m\u001b[1;33m.\u001b[0m\u001b[0mplot\u001b[0m\u001b[1;33m(\u001b[0m\u001b[0mx\u001b[0m\u001b[1;33m,\u001b[0m \u001b[0mF\u001b[0m\u001b[1;33m,\u001b[0m \u001b[1;34m'r--'\u001b[0m\u001b[1;33m,\u001b[0m \u001b[0mlinewidth\u001b[0m \u001b[1;33m=\u001b[0m \u001b[1;36m1\u001b[0m\u001b[1;33m)\u001b[0m\u001b[1;33m\u001b[0m\u001b[1;33m\u001b[0m\u001b[0m\n\u001b[0m\u001b[0;32m     11\u001b[0m \u001b[0mplt\u001b[0m\u001b[1;33m.\u001b[0m\u001b[0mplot\u001b[0m\u001b[1;33m(\u001b[0m\u001b[0mx\u001b[0m\u001b[1;33m,\u001b[0m \u001b[0manalic\u001b[0m\u001b[1;33m,\u001b[0m \u001b[1;34m'b--'\u001b[0m\u001b[1;33m,\u001b[0m \u001b[0mlinewidth\u001b[0m \u001b[1;33m=\u001b[0m \u001b[1;36m2\u001b[0m\u001b[1;33m)\u001b[0m\u001b[1;33m\u001b[0m\u001b[1;33m\u001b[0m\u001b[0m\n\u001b[0;32m     12\u001b[0m \u001b[0mplt\u001b[0m\u001b[1;33m.\u001b[0m\u001b[0mtitle\u001b[0m\u001b[1;33m(\u001b[0m\u001b[1;34m'Euler'\u001b[0m\u001b[1;33m)\u001b[0m\u001b[1;33m\u001b[0m\u001b[1;33m\u001b[0m\u001b[0m\n",
      "\u001b[1;32m~\\AppData\\Roaming\\Python\\Python39\\site-packages\\matplotlib\\pyplot.py\u001b[0m in \u001b[0;36mplot\u001b[1;34m(scalex, scaley, data, *args, **kwargs)\u001b[0m\n\u001b[0;32m   2810\u001b[0m \u001b[1;33m@\u001b[0m\u001b[0m_copy_docstring_and_deprecators\u001b[0m\u001b[1;33m(\u001b[0m\u001b[0mAxes\u001b[0m\u001b[1;33m.\u001b[0m\u001b[0mplot\u001b[0m\u001b[1;33m)\u001b[0m\u001b[1;33m\u001b[0m\u001b[1;33m\u001b[0m\u001b[0m\n\u001b[0;32m   2811\u001b[0m \u001b[1;32mdef\u001b[0m \u001b[0mplot\u001b[0m\u001b[1;33m(\u001b[0m\u001b[1;33m*\u001b[0m\u001b[0margs\u001b[0m\u001b[1;33m,\u001b[0m \u001b[0mscalex\u001b[0m\u001b[1;33m=\u001b[0m\u001b[1;32mTrue\u001b[0m\u001b[1;33m,\u001b[0m \u001b[0mscaley\u001b[0m\u001b[1;33m=\u001b[0m\u001b[1;32mTrue\u001b[0m\u001b[1;33m,\u001b[0m \u001b[0mdata\u001b[0m\u001b[1;33m=\u001b[0m\u001b[1;32mNone\u001b[0m\u001b[1;33m,\u001b[0m \u001b[1;33m**\u001b[0m\u001b[0mkwargs\u001b[0m\u001b[1;33m)\u001b[0m\u001b[1;33m:\u001b[0m\u001b[1;33m\u001b[0m\u001b[1;33m\u001b[0m\u001b[0m\n\u001b[1;32m-> 2812\u001b[1;33m     return gca().plot(\n\u001b[0m\u001b[0;32m   2813\u001b[0m         \u001b[1;33m*\u001b[0m\u001b[0margs\u001b[0m\u001b[1;33m,\u001b[0m \u001b[0mscalex\u001b[0m\u001b[1;33m=\u001b[0m\u001b[0mscalex\u001b[0m\u001b[1;33m,\u001b[0m \u001b[0mscaley\u001b[0m\u001b[1;33m=\u001b[0m\u001b[0mscaley\u001b[0m\u001b[1;33m,\u001b[0m\u001b[1;33m\u001b[0m\u001b[1;33m\u001b[0m\u001b[0m\n\u001b[0;32m   2814\u001b[0m         **({\"data\": data} if data is not None else {}), **kwargs)\n",
      "\u001b[1;32m~\\AppData\\Roaming\\Python\\Python39\\site-packages\\matplotlib\\axes\\_axes.py\u001b[0m in \u001b[0;36mplot\u001b[1;34m(self, scalex, scaley, data, *args, **kwargs)\u001b[0m\n\u001b[0;32m   1686\u001b[0m         \"\"\"\n\u001b[0;32m   1687\u001b[0m         \u001b[0mkwargs\u001b[0m \u001b[1;33m=\u001b[0m \u001b[0mcbook\u001b[0m\u001b[1;33m.\u001b[0m\u001b[0mnormalize_kwargs\u001b[0m\u001b[1;33m(\u001b[0m\u001b[0mkwargs\u001b[0m\u001b[1;33m,\u001b[0m \u001b[0mmlines\u001b[0m\u001b[1;33m.\u001b[0m\u001b[0mLine2D\u001b[0m\u001b[1;33m)\u001b[0m\u001b[1;33m\u001b[0m\u001b[1;33m\u001b[0m\u001b[0m\n\u001b[1;32m-> 1688\u001b[1;33m         \u001b[0mlines\u001b[0m \u001b[1;33m=\u001b[0m \u001b[1;33m[\u001b[0m\u001b[1;33m*\u001b[0m\u001b[0mself\u001b[0m\u001b[1;33m.\u001b[0m\u001b[0m_get_lines\u001b[0m\u001b[1;33m(\u001b[0m\u001b[1;33m*\u001b[0m\u001b[0margs\u001b[0m\u001b[1;33m,\u001b[0m \u001b[0mdata\u001b[0m\u001b[1;33m=\u001b[0m\u001b[0mdata\u001b[0m\u001b[1;33m,\u001b[0m \u001b[1;33m**\u001b[0m\u001b[0mkwargs\u001b[0m\u001b[1;33m)\u001b[0m\u001b[1;33m]\u001b[0m\u001b[1;33m\u001b[0m\u001b[1;33m\u001b[0m\u001b[0m\n\u001b[0m\u001b[0;32m   1689\u001b[0m         \u001b[1;32mfor\u001b[0m \u001b[0mline\u001b[0m \u001b[1;32min\u001b[0m \u001b[0mlines\u001b[0m\u001b[1;33m:\u001b[0m\u001b[1;33m\u001b[0m\u001b[1;33m\u001b[0m\u001b[0m\n\u001b[0;32m   1690\u001b[0m             \u001b[0mself\u001b[0m\u001b[1;33m.\u001b[0m\u001b[0madd_line\u001b[0m\u001b[1;33m(\u001b[0m\u001b[0mline\u001b[0m\u001b[1;33m)\u001b[0m\u001b[1;33m\u001b[0m\u001b[1;33m\u001b[0m\u001b[0m\n",
      "\u001b[1;32m~\\AppData\\Roaming\\Python\\Python39\\site-packages\\matplotlib\\axes\\_base.py\u001b[0m in \u001b[0;36m__call__\u001b[1;34m(self, data, *args, **kwargs)\u001b[0m\n\u001b[0;32m    309\u001b[0m                 \u001b[0mthis\u001b[0m \u001b[1;33m+=\u001b[0m \u001b[0margs\u001b[0m\u001b[1;33m[\u001b[0m\u001b[1;36m0\u001b[0m\u001b[1;33m]\u001b[0m\u001b[1;33m,\u001b[0m\u001b[1;33m\u001b[0m\u001b[1;33m\u001b[0m\u001b[0m\n\u001b[0;32m    310\u001b[0m                 \u001b[0margs\u001b[0m \u001b[1;33m=\u001b[0m \u001b[0margs\u001b[0m\u001b[1;33m[\u001b[0m\u001b[1;36m1\u001b[0m\u001b[1;33m:\u001b[0m\u001b[1;33m]\u001b[0m\u001b[1;33m\u001b[0m\u001b[1;33m\u001b[0m\u001b[0m\n\u001b[1;32m--> 311\u001b[1;33m             yield from self._plot_args(\n\u001b[0m\u001b[0;32m    312\u001b[0m                 this, kwargs, ambiguous_fmt_datakey=ambiguous_fmt_datakey)\n\u001b[0;32m    313\u001b[0m \u001b[1;33m\u001b[0m\u001b[0m\n",
      "\u001b[1;32m~\\AppData\\Roaming\\Python\\Python39\\site-packages\\matplotlib\\axes\\_base.py\u001b[0m in \u001b[0;36m_plot_args\u001b[1;34m(self, tup, kwargs, return_kwargs, ambiguous_fmt_datakey)\u001b[0m\n\u001b[0;32m    502\u001b[0m \u001b[1;33m\u001b[0m\u001b[0m\n\u001b[0;32m    503\u001b[0m         \u001b[1;32mif\u001b[0m \u001b[0mx\u001b[0m\u001b[1;33m.\u001b[0m\u001b[0mshape\u001b[0m\u001b[1;33m[\u001b[0m\u001b[1;36m0\u001b[0m\u001b[1;33m]\u001b[0m \u001b[1;33m!=\u001b[0m \u001b[0my\u001b[0m\u001b[1;33m.\u001b[0m\u001b[0mshape\u001b[0m\u001b[1;33m[\u001b[0m\u001b[1;36m0\u001b[0m\u001b[1;33m]\u001b[0m\u001b[1;33m:\u001b[0m\u001b[1;33m\u001b[0m\u001b[1;33m\u001b[0m\u001b[0m\n\u001b[1;32m--> 504\u001b[1;33m             raise ValueError(f\"x and y must have same first dimension, but \"\n\u001b[0m\u001b[0;32m    505\u001b[0m                              f\"have shapes {x.shape} and {y.shape}\")\n\u001b[0;32m    506\u001b[0m         \u001b[1;32mif\u001b[0m \u001b[0mx\u001b[0m\u001b[1;33m.\u001b[0m\u001b[0mndim\u001b[0m \u001b[1;33m>\u001b[0m \u001b[1;36m2\u001b[0m \u001b[1;32mor\u001b[0m \u001b[0my\u001b[0m\u001b[1;33m.\u001b[0m\u001b[0mndim\u001b[0m \u001b[1;33m>\u001b[0m \u001b[1;36m2\u001b[0m\u001b[1;33m:\u001b[0m\u001b[1;33m\u001b[0m\u001b[1;33m\u001b[0m\u001b[0m\n",
      "\u001b[1;31mValueError\u001b[0m: x and y must have same first dimension, but have shapes (80000,) and (2000,)"
     ]
    },
    {
     "data": {
      "image/png": "[encoded data removed]",
      "text/plain": [
       "<Figure size 1000x600 with 1 Axes>"
      ]
     },
     "metadata": {},
     "output_type": "display_data"
    }
   ],
   "source": [
    "import matplotlib.pyplot as plot\n",
    "import seaborn as sns\n",
    "\n",
    "\n",
    "sns.set(font_scale = 1, font='sans serif')\n",
    "plt.figure(figsize=(10,6), facecolor = \"#FFF\")\n",
    "\n",
    "plt.figure(1)\n",
    "plt.rcParams.update({'font.size': 10})\n",
    "plt.plot(x, F, 'r--', linewidth = 1)\n",
    "plt.plot(x, analic, 'b--', linewidth = 2)\n",
    "plt.title('Euler')\n",
    "plt.xlabel('x')\n",
    "plt.ylabel('y(x)')\n",
    "#plt.legen(['Euler'])\n",
    "plt.grid(True)\n",
    "plot.show()"
   ]
  },
  {
   "cell_type": "markdown",
   "id": "0c13e333",
   "metadata": {},
   "source": [
    "## Estudar 2 algoritmos: método de euler melhorado e do ponto médio geométrico (slide 49-50)\n",
    "- Implementar euler melhorado:  testar código do slide> loop \n",
    "- Implementar ponto médio geométrico: calcular euler (gerar curvar)\n",
    "    * ambos tem k1 e k2, o que muda é o k2, mudar equação só para k2 de acordo com ponto médio \n",
    "    * criar funções em arquivos diferente (def/class)\n",
    "    * deixar algoritmos iguais\n",
    "    "
   ]
  },
  {
   "cell_type": "markdown",
   "id": "5a1d96c4",
   "metadata": {},
   "source": [
    "Atividades:\n",
    "   * Exercício das concentrações\n",
    "   * Método de euler (implementar com qualquer função)\n",
    "   * Ponto médio"
   ]
  },
  {
   "cell_type": "code",
   "execution_count": null,
   "id": "11f15b81",
   "metadata": {},
   "outputs": [],
   "source": []
  }
 ],
 "metadata": {
  "kernelspec": {
   "display_name": "Python 3 (ipykernel)",
   "language": "python",
   "name": "python3"
  },
  "language_info": {
   "codemirror_mode": {
    "name": "ipython",
    "version": 3
   },
   "file_extension": ".py",
   "mimetype": "text/x-python",
   "name": "python",
   "nbconvert_exporter": "python",
   "pygments_lexer": "ipython3",
   "version": "3.9.13"
  }
 },
 "nbformat": 4,
 "nbformat_minor": 5
}
